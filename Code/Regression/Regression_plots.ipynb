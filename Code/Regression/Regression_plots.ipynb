{
 "cells": [
  {
   "cell_type": "code",
   "execution_count": 1,
   "metadata": {},
   "outputs": [
    {
     "name": "stdout",
     "output_type": "stream",
     "text": [
      "cpu\n"
     ]
    }
   ],
   "source": [
    "import torch\n",
    "import torch.autograd as autograd         # computation graph\n",
    "from torch import Tensor                  # tensor node in the computation graph\n",
    "import torch.nn as nn                     # neural networks\n",
    "import torch.optim as optim               # optimizers e.g. gradient descent, ADAM, etc.\n",
    "\n",
    "import matplotlib.pyplot as plt\n",
    "import matplotlib.gridspec as gridspec\n",
    "from mpl_toolkits.axes_grid1 import make_axes_locatable\n",
    "from mpl_toolkits.mplot3d import Axes3D\n",
    "import matplotlib.ticker\n",
    "from torch.nn.parameter import Parameter\n",
    "\n",
    "import numpy as np\n",
    "import time\n",
    "from pyDOE import lhs         #Latin Hypercube Sampling\n",
    "import scipy.io\n",
    "\n",
    "from smt.sampling_methods import LHS\n",
    "from scipy.io import savemat\n",
    "\n",
    "#Set default dtype to float32\n",
    "torch.set_default_dtype(torch.float)\n",
    "\n",
    "#PyTorch random number generator\n",
    "torch.manual_seed(1234)\n",
    "\n",
    "# Random number generators in other libraries\n",
    "np.random.seed(1234)\n",
    "\n",
    "device = torch.device('cpu')\n",
    "\n",
    "print(device)\n",
    "\n",
    "if device == 'cuda': \n",
    "    print(torch.cuda.get_device_name())"
   ]
  },
  {
   "cell_type": "code",
   "execution_count": 4,
   "metadata": {},
   "outputs": [
    {
     "name": "stdout",
     "output_type": "stream",
     "text": [
      "0 [0.05065649 0.04928186 0.05192758]\n",
      "1 [0.04798159 0.18977201 0.37319702]\n",
      "2 [0.65191593 0.74564394 0.74564394]\n",
      "3 [0.41386942 0.29702331 0.27343744]\n",
      "4 [0.10915809 0.06320247 0.05101184]\n"
     ]
    },
    {
     "data": {
      "image/png": "[encoded data removed]",
      "text/plain": [
       "<Figure size 640x480 with 1 Axes>"
      ]
     },
     "metadata": {},
     "output_type": "display_data"
    }
   ],
   "source": [
    "fig, ax = plt.subplots()\n",
    "num_steps = 3000\n",
    "prob_name = \"Regr_disc_\"\n",
    "\n",
    "levels = [\"_low\",\"_medium\",\"_high\"]\n",
    "all_labels = ['Stan (Proposed)','tanh','N-LAAF','Swish','Rowdy']\n",
    "all_colors = ['r','k','b','c','m']\n",
    "\n",
    "folders = ['./stan/','./tanh/','./atanh/','./swish/','./rowdy/']\n",
    "algo_names = ['stan','tanh','atanh','swish','rowdy']\n",
    "\n",
    "stop = -5\n",
    "\n",
    "tick_locs = np.zeros((5,))\n",
    "for i in range(5):\n",
    "    mean_test_loss = np.zeros((3,))\n",
    "    \n",
    "    for j in range(3):\n",
    "        level = levels[j]\n",
    "        \n",
    "        dat = scipy.io.loadmat(folders[i]+prob_name+algo_names[i]+level+'.mat')\n",
    "        test_loss =  dat['test_re']\n",
    "        \n",
    "        mean_test_loss[j] = np.nanmean(test_loss[:,-1],axis = 0)\n",
    "    \n",
    "    print(i,mean_test_loss)\n",
    "    \n",
    "    start = stop + 3\n",
    "    stop = start + 2\n",
    "    locs = np.linspace(start,stop,3)\n",
    "    \n",
    "    tick_locs[i] = start+1\n",
    "    bar = ax.bar(locs,mean_test_loss,width = 1.0,color = all_colors[i],edgecolor = \"black\")\n",
    "    ax.bar_label(bar,labels = ['L','M','H'])\n"
   ]
  },
  {
   "cell_type": "code",
   "execution_count": 3,
   "metadata": {},
   "outputs": [
    {
     "data": {
      "text/plain": [
       "array([0.10915809, 0.06320247, 0.05101184])"
      ]
     },
     "execution_count": 3,
     "metadata": {},
     "output_type": "execute_result"
    }
   ],
   "source": [
    "mean_test_loss"
   ]
  }
 ],
 "metadata": {
  "kernelspec": {
   "display_name": "Python 3",
   "language": "python",
   "name": "python3"
  },
  "language_info": {
   "codemirror_mode": {
    "name": "ipython",
    "version": 3
   },
   "file_extension": ".py",
   "mimetype": "text/x-python",
   "name": "python",
   "nbconvert_exporter": "python",
   "pygments_lexer": "ipython3",
   "version": "3.7.13"
  }
 },
 "nbformat": 4,
 "nbformat_minor": 4
}
