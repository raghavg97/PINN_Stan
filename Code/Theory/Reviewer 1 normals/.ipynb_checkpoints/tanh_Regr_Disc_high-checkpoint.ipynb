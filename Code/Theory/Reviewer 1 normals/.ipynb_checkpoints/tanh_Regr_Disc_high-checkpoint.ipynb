{
 "cells": [
  {
   "cell_type": "code",
   "execution_count": 1,
   "metadata": {},
   "outputs": [
    {
     "name": "stdout",
     "output_type": "stream",
     "text": [
      "cuda:3\n"
     ]
    }
   ],
   "source": [
    "#Trying to replicate the results of \"Adaptive activation functions accelerate convergence in deep and physics-informed neural networks\"\n",
    "import torch\n",
    "import torch.autograd as autograd         # computation graph\n",
    "from torch import Tensor                  # tensor node in the computation graph\n",
    "import torch.nn as nn                     # neural networks\n",
    "import torch.optim as optim               # optimizers e.g. gradient descent, ADAM, etc.\n",
    "\n",
    "import matplotlib.pyplot as plt\n",
    "import matplotlib.gridspec as gridspec\n",
    "from mpl_toolkits.axes_grid1 import make_axes_locatable\n",
    "from mpl_toolkits.mplot3d import Axes3D\n",
    "import matplotlib.ticker\n",
    "from torch.nn.parameter import Parameter\n",
    "\n",
    "import numpy as np\n",
    "import time\n",
    "from pyDOE import lhs         #Latin Hypercube Sampling\n",
    "import scipy.io\n",
    "from scipy.io import savemat\n",
    "\n",
    "from smt.sampling_methods import LHS\n",
    "\n",
    "#Set default dtype to float32\n",
    "torch.set_default_dtype(torch.float)\n",
    "\n",
    "#PyTorch random number generator\n",
    "torch.manual_seed(1234)\n",
    "\n",
    "# Random number generators in other libraries\n",
    "np.random.seed(1234)\n",
    "\n",
    "# Device configuration\n",
    "device = torch.device('cuda:3' if torch.cuda.is_available() else 'cpu')\n",
    "\n",
    "print(device)\n",
    "\n",
    "if device == 'cuda': \n",
    "    print(torch.cuda.get_device_name())\n"
   ]
  },
  {
   "cell_type": "code",
   "execution_count": 2,
   "metadata": {},
   "outputs": [],
   "source": [
    "def true_disc(x): #[-4,3.75]\n",
    "    y  = np.zeros((np.shape(x)[0],))\n",
    "    \n",
    "    y = 0.2*np.sin(6*x)*np.exp(-1*x)\n",
    "    y[x>0] = 1 + 0.1*x[x>0]*np.exp(x[x>0]) + 10\n",
    "    \n",
    "    return scale*y"
   ]
  },
  {
   "cell_type": "code",
   "execution_count": 3,
   "metadata": {},
   "outputs": [],
   "source": [
    "# Domain bounds\n",
    "level = \"high\"\n",
    "label = \"Regr_disc_tanh_\"+level\n",
    "loss_thresh = 0.1\n",
    "scale = 50.0\n",
    "\n",
    "lb = np.array(-4.0)  # [-1. 0.]\n",
    "ub = np.array(3.75) # [1.  0.99]\n",
    "\n",
    "x_test = np.linspace(lb,ub,1000).reshape(-1,1)\n",
    "u_true = true_disc(x_test)\n",
    "\n",
    "u_true_norm = np.linalg.norm(u_true,2)"
   ]
  },
  {
   "cell_type": "code",
   "execution_count": 4,
   "metadata": {},
   "outputs": [
    {
     "data": {
      "text/plain": [
       "[<matplotlib.lines.Line2D at 0x7fda86763c50>]"
      ]
     },
     "execution_count": 4,
     "metadata": {},
     "output_type": "execute_result"
    },
    {
     "data": {
      "image/png": "[encoded data removed]",
      "text/plain": [
       "<Figure size 640x480 with 1 Axes>"
      ]
     },
     "metadata": {},
     "output_type": "display_data"
    }
   ],
   "source": [
    "plt.plot(x_test,u_true,'b')"
   ]
  },
  {
   "cell_type": "code",
   "execution_count": 5,
   "metadata": {},
   "outputs": [],
   "source": [
    "def trainingdata(N_train,seed):\n",
    "    np.random.seed(seed)\n",
    "    \n",
    "    x_train = np.random.uniform(low=lb, high=ub, size=(N_train,)).reshape(-1,1)\n",
    "\n",
    "    u_train = true_disc(x_train)\n",
    "\n",
    "    return x_train, u_train"
   ]
  },
  {
   "cell_type": "code",
   "execution_count": 6,
   "metadata": {},
   "outputs": [],
   "source": [
    "class Sequentialmodel(nn.Module):\n",
    "    \n",
    "    def __init__(self,layers,beta_init):\n",
    "        super().__init__() #call __init__ from parent class \n",
    "              \n",
    "        'activation function'\n",
    "        self.activation = nn.Tanh()\n",
    "     \n",
    "        'loss function'\n",
    "        self.loss_function = nn.MSELoss(reduction ='mean')\n",
    "        \n",
    "        'Initialise neural network as a list using nn.Modulelist'  \n",
    "        self.linears = nn.ModuleList([nn.Linear(layers[i], layers[i+1]) for i in range(len(layers)-1)])\n",
    "     \n",
    "        \n",
    "        for i in range(len(layers)-1):\n",
    "            nn.init.xavier_normal_(self.linears[i].weight.data, gain=1.0)\n",
    "            # set biases to zero\n",
    "            nn.init.zeros_(self.linears[i].bias.data)\n",
    "            \n",
    "            \n",
    "    'foward pass'\n",
    "    def forward(self,x):\n",
    "        if torch.is_tensor(x) != True:         \n",
    "            x = torch.from_numpy(x)                \n",
    "        \n",
    "        u_b = torch.from_numpy(ub).float().to(device)\n",
    "        l_b = torch.from_numpy(lb).float().to(device)\n",
    "                      \n",
    "        #preprocessing input \n",
    "        x = 2.0*(x - l_b)/(u_b - l_b)-1.0 #feature scaling\n",
    "        \n",
    "        #convert to float\n",
    "        a = x.float()\n",
    "        \n",
    "        for i in range(len(layers)-2):\n",
    "            z = self.linears[i](a)\n",
    "            a = self.activation(z) \n",
    "    \n",
    "        a = self.linears[-1](a) \n",
    "        \n",
    "        return a\n",
    "    \n",
    "    def forward_hist(self,x):\n",
    "        if torch.is_tensor(x) != True:         \n",
    "            x = torch.from_numpy(x)                \n",
    "        \n",
    "        u_b = torch.from_numpy(ub).float().to(device)\n",
    "        l_b = torch.from_numpy(lb).float().to(device)\n",
    "                      \n",
    "        #preprocessing input \n",
    "        x = 2.0*(x - l_b)/(u_b - l_b)-1.0 #feature scaling\n",
    "        \n",
    "        #convert to float\n",
    "        a = x.float()\n",
    "        \n",
    "        for i in range(len(layers)-2):\n",
    "            z = self.linears[i](a)\n",
    "            a = self.activation(z) \n",
    "            if(i==0):\n",
    "                a1 = a\n",
    "            if(i==1):\n",
    "                a2 = a\n",
    "        \n",
    "        return a1,a2\n",
    "    \n",
    "    \n",
    "    def loss(self,x,u):\n",
    "\n",
    "        loss_val = self.loss_function(self.forward(x),u)\n",
    "        \n",
    "        return loss_val\n",
    "        \n",
    "    'test neural network'\n",
    "    def test(self):\n",
    "        u_pred = self.forward(x_test_tensor)       \n",
    "        u_pred = u_pred.cpu().detach().numpy()\n",
    "        \n",
    "        return u_pred\n",
    "    \n",
    "    def test_loss(self):\n",
    "        u_pred = self.test()\n",
    "        \n",
    "        test_mse_loss = np.mean(np.square(u_pred.reshape(-1,1) - u_true.reshape(-1,1)))\n",
    "        test_re_loss = np.linalg.norm(u_pred.reshape(-1,1) - u_true.reshape(-1,1),2)/u_true_norm\n",
    "        \n",
    "        return test_mse_loss, test_re_loss  "
   ]
  },
  {
   "cell_type": "code",
   "execution_count": 7,
   "metadata": {},
   "outputs": [],
   "source": [
    "def data_update(loss_np):\n",
    "    train_loss.append(loss_np)\n",
    "    # beta_val.append(model_NN.beta.cpu().detach().numpy())\n",
    "    test_mse, test_re = model_NN.test_loss()\n",
    "    test_mse_loss.append(test_mse)\n",
    "    test_re_loss.append(test_re)"
   ]
  },
  {
   "cell_type": "code",
   "execution_count": 8,
   "metadata": {},
   "outputs": [],
   "source": [
    "def train_step():\n",
    "    optimizer.zero_grad()     # zeroes the gradient buffers of all parameters\n",
    "    loss = model_NN.loss(x_train,u_train)\n",
    "    loss.backward() #backprop\n",
    "    optimizer.step()\n",
    "    \n",
    "    return loss"
   ]
  },
  {
   "cell_type": "code",
   "execution_count": 9,
   "metadata": {},
   "outputs": [],
   "source": [
    "def train_model(max_iter,rep):\n",
    "    print(rep) \n",
    "   \n",
    "    torch.manual_seed(rep*123)\n",
    "    start_time = time.time()\n",
    "    thresh_flag = 0\n",
    "    \n",
    "    loss_np = model_NN.loss(x_train,u_train).cpu().detach().numpy()\n",
    "    data_update(loss_np)\n",
    "    \n",
    "    for i in range(max_iter):\n",
    "        loss_np = train_step().cpu().detach().numpy()\n",
    "        if(thresh_flag == 0):\n",
    "            if(loss_np < loss_thresh):\n",
    "                time_threshold[rep] = time.time() - start_time\n",
    "                epoch_threshold[rep] = i+1            \n",
    "                thresh_flag = 1\n",
    "        data_update(loss_np)\n",
    "        if(i%100==0):        \n",
    "            print(i,\"Train Loss\",train_loss[-1],\"Test MSE\",test_mse_loss[-1],\"Test RE\",test_re_loss[-1])\n",
    "    \n",
    "    elapsed_time[rep] = time.time() - start_time\n",
    "    print('Training time: %.2f' % (elapsed_time[rep]))"
   ]
  },
  {
   "cell_type": "code",
   "execution_count": 10,
   "metadata": {},
   "outputs": [
    {
     "name": "stdout",
     "output_type": "stream",
     "text": [
      "Sequentialmodel(\n",
      "  (activation): Tanh()\n",
      "  (loss_function): MSELoss()\n",
      "  (linears): ModuleList(\n",
      "    (0): Linear(in_features=1, out_features=50, bias=True)\n",
      "    (1): Linear(in_features=50, out_features=50, bias=True)\n",
      "    (2): Linear(in_features=50, out_features=1, bias=True)\n",
      "  )\n",
      ")\n",
      "0\n",
      "0 Train Loss 290398.4 Test MSE 272873.507633609 Test RE 0.999099378001253\n",
      "100 Train Loss 254663.81 Test MSE 239847.54302803945 Test RE 0.9366894716597816\n",
      "200 Train Loss 230586.11 Test MSE 217840.59122456828 Test RE 0.8926832899615001\n",
      "300 Train Loss 211353.55 Test MSE 200487.2319185503 Test RE 0.8563895548250628\n",
      "400 Train Loss 187678.25 Test MSE 177083.68018150874 Test RE 0.804854304948192\n",
      "500 Train Loss 167517.72 Test MSE 158271.11715885805 Test RE 0.7609021929439389\n",
      "600 Train Loss 150221.89 Test MSE 142178.92183042713 Test RE 0.7211832147107525\n",
      "700 Train Loss 130956.05 Test MSE 123054.41558900902 Test RE 0.670929060031528\n",
      "800 Train Loss 115211.55 Test MSE 108182.01280362121 Test RE 0.6290794966222157\n",
      "900 Train Loss 101731.65 Test MSE 95486.4529456529 Test RE 0.5910155154879095\n",
      "1000 Train Loss 90101.11 Test MSE 84535.71529568941 Test RE 0.5560938827810147\n",
      "1100 Train Loss 79994.6 Test MSE 74986.19847955188 Test RE 0.5237435292158743\n",
      "1200 Train Loss 71121.11 Test MSE 66633.94033205429 Test RE 0.4937143491928817\n",
      "1300 Train Loss 63559.254 Test MSE 59529.25444641355 Test RE 0.4666520989071989\n",
      "1400 Train Loss 57139.215 Test MSE 53496.07347375819 Test RE 0.4423733493726584\n",
      "1500 Train Loss 51709.664 Test MSE 48390.23849926925 Test RE 0.42073329653393676\n",
      "1600 Train Loss 47149.133 Test MSE 44096.07712557684 Test RE 0.4016316963710487\n",
      "1700 Train Loss 43349.78 Test MSE 40510.87927965604 Test RE 0.38495843190864854\n",
      "1800 Train Loss 40202.875 Test MSE 37534.79184148983 Test RE 0.37054845574521866\n",
      "1900 Train Loss 37578.715 Test MSE 35059.109949112026 Test RE 0.35811989214954487\n",
      "2000 Train Loss 35408.832 Test MSE 32993.78826187926 Test RE 0.3474114223867068\n",
      "2100 Train Loss 33162.633 Test MSE 30955.848097198956 Test RE 0.3365110698077899\n",
      "2200 Train Loss 31053.938 Test MSE 29050.009217064246 Test RE 0.3259876439212396\n",
      "2300 Train Loss 29333.871 Test MSE 27469.892506467164 Test RE 0.31699797053641665\n",
      "2400 Train Loss 27438.39 Test MSE 25743.943072158374 Test RE 0.30687784449844147\n",
      "2500 Train Loss 25753.457 Test MSE 24224.32509675778 Test RE 0.2976828705541437\n",
      "2600 Train Loss 24250.463 Test MSE 22857.69425002137 Test RE 0.28916399182551566\n",
      "2700 Train Loss 23014.88 Test MSE 21719.582860709026 Test RE 0.28187317142803414\n",
      "2800 Train Loss 21510.316 Test MSE 20413.946192496136 Test RE 0.2732697029374081\n",
      "2900 Train Loss 20394.008 Test MSE 19382.988212198154 Test RE 0.26627988925142626\n",
      "3000 Train Loss 19469.58 Test MSE 18531.548404772053 Test RE 0.2603657511554291\n",
      "3100 Train Loss 18140.145 Test MSE 17415.253573457783 Test RE 0.25240206458552233\n",
      "3200 Train Loss 17205.521 Test MSE 16555.477240657583 Test RE 0.24609276967910299\n",
      "3300 Train Loss 16426.2 Test MSE 15840.111337952032 Test RE 0.24071719649264448\n",
      "3400 Train Loss 15344.5205 Test MSE 14982.315619316421 Test RE 0.23410865652604382\n",
      "3500 Train Loss 14503.679 Test MSE 14203.647687446635 Test RE 0.2279438858076563\n",
      "3600 Train Loss 13800.099 Test MSE 13562.388781400557 Test RE 0.22273891341449883\n",
      "3700 Train Loss 13206.186 Test MSE 13034.566086828741 Test RE 0.21836161163839496\n",
      "3800 Train Loss 12244.896 Test MSE 12277.290288499375 Test RE 0.21192357135346607\n",
      "3900 Train Loss 11587.471 Test MSE 11680.176565237374 Test RE 0.2067058204799821\n",
      "4000 Train Loss 11036.4 Test MSE 11177.478367369868 Test RE 0.2022087389827383\n",
      "4100 Train Loss 10574.297 Test MSE 10757.014209463283 Test RE 0.19836903150759005\n",
      "4200 Train Loss 9924.607 Test MSE 10300.463229965408 Test RE 0.19411378588007\n",
      "4300 Train Loss 9386.703 Test MSE 9811.89953789287 Test RE 0.18945433554355504\n",
      "4400 Train Loss 8947.441 Test MSE 9393.538726239743 Test RE 0.18537135176469954\n",
      "4500 Train Loss 8577.479 Test MSE 9034.669372803934 Test RE 0.1817959206714658\n",
      "4600 Train Loss 8267.706 Test MSE 8736.114359585423 Test RE 0.17876691975032122\n",
      "4700 Train Loss 7983.9253 Test MSE 8564.661219312304 Test RE 0.17700400629157284\n",
      "4800 Train Loss 7557.9346 Test MSE 8214.77681835172 Test RE 0.17335081438571512\n",
      "4900 Train Loss 7232.02 Test MSE 7906.518780854909 Test RE 0.17006723671580004\n",
      "Training time: 7.90\n"
     ]
    }
   ],
   "source": [
    "max_reps = 1\n",
    "max_iter = 5000\n",
    "layers = np.array([1,50,50,1])\n",
    "\n",
    "train_loss_full = []\n",
    "test_mse_full = []\n",
    "test_re_full = []\n",
    "beta_full = []\n",
    "elapsed_time= np.zeros((max_reps,1))\n",
    "\n",
    "time_threshold = np.empty((max_reps,1))\n",
    "time_threshold[:] = np.nan\n",
    "epoch_threshold = max_iter*np.ones((max_reps,1))\n",
    "\n",
    "beta_init = 0.25\n",
    "\n",
    "\n",
    "for reps in range(max_reps):\n",
    "    \n",
    "    train_loss = []\n",
    "    test_mse_loss = []\n",
    "    test_re_loss = []\n",
    "    beta_val = []\n",
    "    'Generate Training data'\n",
    "    N_train = 300\n",
    "    \n",
    "    x_train_np_array, u_train_np_array = trainingdata(N_train,reps*1234)\n",
    "\n",
    "    'Convert to tensor and send to GPU'\n",
    "    x_train = torch.from_numpy(x_train_np_array).float().to(device)\n",
    "    u_train = torch.from_numpy(u_train_np_array).float().to(device)\n",
    "    \n",
    "    x_test_tensor = torch.from_numpy(x_test).float().to(device)\n",
    "       \n",
    "     \n",
    "    model_NN = Sequentialmodel(layers,beta_init)\n",
    "    model_NN.to(device)\n",
    "    print(model_NN)\n",
    "    params = list(model_NN.parameters())\n",
    "    #optimizer = optim.Adam(PINN.parameters(), lr=0.0008,betas=(0.9, 0.999), eps=1e-08, weight_decay=0, amsgrad=False)\n",
    "    optimizer = optim.Adam(model_NN.parameters(), lr=0.008)\n",
    "\n",
    "    train_model(max_iter,reps)\n",
    " \n",
    "    torch.save(model_NN.state_dict(),label+'_'+str(reps)+'.pt')\n",
    "    train_loss_full.append(train_loss)\n",
    "    test_mse_full.append(test_mse_loss)\n",
    "    test_re_full.append(test_re_loss)\n",
    "    beta_full.append(beta_val)\n",
    "                 \n",
    "\n",
    "mdic = {\"train_loss\": train_loss_full,\"test_mse\": test_mse_full, \"test_re\": test_re_full,\"Time\": elapsed_time, \"Thresh_time\": time_threshold, \"epoch_thresh\": epoch_threshold,\"beta\": beta_full, \"label\": label}\n",
    "savemat(label+'.mat', mdic) "
   ]
  },
  {
   "cell_type": "code",
   "execution_count": 11,
   "metadata": {},
   "outputs": [],
   "source": [
    "a1,a2 = model_NN.forward_hist(x_test_tensor)\n",
    "u = model_NN.forward(x_test_tensor)\n",
    "a1 = a1.cpu().detach().numpy().reshape(-1,)\n",
    "a2 = a2.cpu().detach().numpy().reshape(-1,)\n",
    "u = u.cpu().detach().numpy().reshape(-1,)"
   ]
  },
  {
   "cell_type": "code",
   "execution_count": 12,
   "metadata": {},
   "outputs": [],
   "source": [
    "mdic = {\"a1\": a1,\"a2\": a2,\"u\":u}\n",
    "savemat('a_tanh.mat', mdic) "
   ]
  },
  {
   "cell_type": "code",
   "execution_count": 15,
   "metadata": {},
   "outputs": [
    {
     "data": {
      "image/png": "[encoded data removed]",
      "text/plain": [
       "<Figure size 640x480 with 1 Axes>"
      ]
     },
     "metadata": {},
     "output_type": "display_data"
    }
   ],
   "source": [
    "Ws = model_NN.linears[2].weight.data.cpu().detach().numpy().reshape(-1,)\n",
    "plt.hist(Ws, bins = 20,density = True)\n",
    "plt.xlabel(\"Value of last layer weights\")\n",
    "plt.title(\"tanh\")\n",
    "plt.savefig('tanh_Ws.pdf',format = 'pdf')"
   ]
  },
  {
   "cell_type": "code",
   "execution_count": null,
   "metadata": {},
   "outputs": [],
   "source": [
    "mdic = {\"a1\": a1,\"a2\": a2,\"u\":u}\n",
    "savemat('a_tanh.mat', mdic)"
   ]
  },
  {
   "cell_type": "code",
   "execution_count": 14,
   "metadata": {},
   "outputs": [
    {
     "ename": "NameError",
     "evalue": "name 'u_pred' is not defined",
     "output_type": "error",
     "traceback": [
      "\u001b[0;31m---------------------------------------------------------------------------\u001b[0m",
      "\u001b[0;31mNameError\u001b[0m                                 Traceback (most recent call last)",
      "\u001b[0;32m/tmp/ipykernel_4759/1367834796.py\u001b[0m in \u001b[0;36m<module>\u001b[0;34m\u001b[0m\n\u001b[0;32m----> 1\u001b[0;31m \u001b[0mplt\u001b[0m\u001b[0;34m.\u001b[0m\u001b[0mplot\u001b[0m\u001b[0;34m(\u001b[0m\u001b[0mx_test\u001b[0m\u001b[0;34m,\u001b[0m\u001b[0mu_pred\u001b[0m\u001b[0;34m,\u001b[0m\u001b[0;34m'rx'\u001b[0m\u001b[0;34m)\u001b[0m\u001b[0;34m\u001b[0m\u001b[0;34m\u001b[0m\u001b[0m\n\u001b[0m\u001b[1;32m      2\u001b[0m \u001b[0mplt\u001b[0m\u001b[0;34m.\u001b[0m\u001b[0mplot\u001b[0m\u001b[0;34m(\u001b[0m\u001b[0mx_test\u001b[0m\u001b[0;34m,\u001b[0m\u001b[0mu_true\u001b[0m\u001b[0;34m,\u001b[0m\u001b[0;34m'b'\u001b[0m\u001b[0;34m)\u001b[0m\u001b[0;34m\u001b[0m\u001b[0;34m\u001b[0m\u001b[0m\n",
      "\u001b[0;31mNameError\u001b[0m: name 'u_pred' is not defined"
     ]
    }
   ],
   "source": [
    "plt.plot(x_test,u_pred,'rx')\n",
    "plt.plot(x_test,u_true,'b')"
   ]
  },
  {
   "cell_type": "code",
   "execution_count": null,
   "metadata": {
    "scrolled": true
   },
   "outputs": [],
   "source": [
    "a = 0\n",
    "for i in range(10):\n",
    "    print(test_mse_full[i][-1])\n",
    "    a = a + test_mse_full[i][-1]\n",
    "print(a/10)"
   ]
  }
 ],
 "metadata": {
  "kernelspec": {
   "display_name": "Python 3",
   "language": "python",
   "name": "python3"
  },
  "language_info": {
   "codemirror_mode": {
    "name": "ipython",
    "version": 3
   },
   "file_extension": ".py",
   "mimetype": "text/x-python",
   "name": "python",
   "nbconvert_exporter": "python",
   "pygments_lexer": "ipython3",
   "version": "3.7.13"
  }
 },
 "nbformat": 4,
 "nbformat_minor": 4
}
